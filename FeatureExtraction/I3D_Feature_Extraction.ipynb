{
  "cells": [
    {
      "cell_type": "code",
      "execution_count": null,
      "metadata": {
        "colab": {
          "base_uri": "https://localhost:8080/"
        },
        "collapsed": true,
        "id": "Gn1MrAwGGkyY",
        "outputId": "33327ed9-54b4-421a-a853-7d51ea687be1"
      },
      "outputs": [],
      "source": [
        "%pip install omegaconf==2.0.6"
      ]
    },
    {
      "cell_type": "code",
      "execution_count": 4,
      "metadata": {
        "colab": {
          "base_uri": "https://localhost:8080/"
        },
        "id": "Uq-_J-msB8Px",
        "outputId": "863c7cfe-81c8-40d9-8dba-eb565ff62325"
      },
      "outputs": [
        {
          "name": "stdout",
          "output_type": "stream",
          "text": [
            "[WinError 2] The system cannot find the file specified: 'FeatureExtraction'\n",
            "e:\\Temporal-Action-Video-Segmentation\\FeatureExtraction\\video_features\n",
            "[WinError 2] The system cannot find the file specified: 'video_features'\n",
            "e:\\Temporal-Action-Video-Segmentation\\FeatureExtraction\\video_features\n"
          ]
        }
      ],
      "source": [
        "%cd FeatureExtraction\n",
        "%cd video_features"
      ]
    },
    {
      "cell_type": "code",
      "execution_count": 3,
      "metadata": {
        "colab": {
          "base_uri": "https://localhost:8080/",
          "height": 36
        },
        "id": "6Czo1UciGomZ",
        "outputId": "032b2ac0-7c72-4958-ad70-d14c4d3fbbe9"
      },
      "outputs": [],
      "source": [
        "from models.i3d.extract_i3d import ExtractI3D\n",
        "from utils.utils import build_cfg_path\n",
        "from omegaconf import OmegaConf\n",
        "import torch\n",
        "\n",
        "device = 'cuda' if torch.cuda.is_available() else 'cpu'\n",
        "# torch.cuda.get_device_name(0)"
      ]
    },
    {
      "cell_type": "code",
      "execution_count": null,
      "metadata": {},
      "outputs": [],
      "source": [
        "!pip install torch\n",
        "!pip install torchvision\n",
        "!pip install scipy\n"
      ]
    },
    {
      "cell_type": "code",
      "execution_count": 14,
      "metadata": {
        "colab": {
          "base_uri": "https://localhost:8080/"
        },
        "id": "iMwy01A8w9nP",
        "outputId": "5987c43c-149c-45dd-f6fb-09c1429f6bde"
      },
      "outputs": [
        {
          "name": "stdout",
          "output_type": "stream",
          "text": [
            "Saved rgb feature as ../../Output/features\\talk_31_rgb.npy\n",
            "Saved flow feature as ../../Output/features\\talk_31_flow.npy\n",
            "Saved fps feature as ../../Output/features\\talk_31_fps.npy\n",
            "Saved timestamps_ms feature as ../../Output/features\\talk_31_timestamps_ms.npy\n",
            "Processed talk_31.mp4\n",
            "Extracting features for talk_32.mp4\n",
            "Saved rgb feature as ../../Output/features\\talk_32_rgb.npy\n",
            "Saved flow feature as ../../Output/features\\talk_32_flow.npy\n",
            "Saved fps feature as ../../Output/features\\talk_32_fps.npy\n",
            "Saved timestamps_ms feature as ../../Output/features\\talk_32_timestamps_ms.npy\n",
            "Processed talk_32.mp4\n",
            "Extracting features for talk_33.mp4\n"
          ]
        }
      ],
      "source": [
        "import os\n",
        "import cv2\n",
        "import numpy as np\n",
        "from tqdm import tqdm\n",
        "\n",
        "# Select the feature type\n",
        "feature_type = 'i3d'\n",
        "\n",
        "# Load and patch the config (assuming you have the correct setup)\n",
        "args = OmegaConf.load(build_cfg_path(feature_type))\n",
        "args.device = device\n",
        "args.flow_type = 'raft'\n",
        "\n",
        "# Load the model (assuming you have the correct setup)\n",
        "extractor = ExtractI3D(args)\n",
        "\n",
        "# Directory containing video files\n",
        "video_dir = '../../Input/data'  # Change this to your video directory\n",
        "\n",
        "# Loop through subdirectories in the video directory\n",
        "for sub_dir in os.listdir(video_dir):\n",
        "    sub_dir_path = os.path.join(video_dir, sub_dir)\n",
        "\n",
        "    if os.path.isdir(sub_dir_path):\n",
        "        # Create a corresponding subdirectory in the extracted features folder\n",
        "        output_sub_dir = os.path.join('../../Output/features')\n",
        "        os.makedirs(output_sub_dir, exist_ok=True)\n",
        "\n",
        "        # Create a folder for ground truth if it doesn't exist\n",
        "        ground_truth_dir = os.path.join('../../Output/groundTruth')\n",
        "        os.makedirs(ground_truth_dir, exist_ok=True)\n",
        "\n",
        "        # Extract features for all video files in the subdirectory\n",
        "        for video_file in os.listdir(sub_dir_path):\n",
        "            if video_file.endswith('.mp4'):\n",
        "                video_path = os.path.join(sub_dir_path, video_file)\n",
        "                print(f'Extracting features for {video_file}')\n",
        "\n",
        "                cap = cv2.VideoCapture(video_path)\n",
        "                fps = int(cap.get(cv2.CAP_PROP_FPS))\n",
        "                num_frames = int(cap.get(cv2.CAP_PROP_FRAME_COUNT))\n",
        "                cap.release()\n",
        "                feature_dict = extractor.extract(video_path)\n",
        "                for key, value in feature_dict.items():\n",
        "                    reshaped_feature = np.resize(value, (2048, num_frames))\n",
        "                    # Create a separate .npy file for each feature type\n",
        "                    npy_filename = os.path.join(output_sub_dir, f'{video_file.split(\".\")[0]}_{key}.npy')\n",
        "                    txt_filename = os.path.join(ground_truth_dir, f'{video_file.split(\".\")[0]}_{key}.txt')\n",
        "                    np.save(npy_filename, reshaped_feature)\n",
        "\n",
        "                    with open(txt_filename, 'w') as txt_file:\n",
        "                            for _ in range(num_frames):\n",
        "                                txt_file.write(os.path.splitext(video_file)[0].split('_')[0] + '\\n')  # Write sub_dir_path `num_frames` times\n",
        "                    print(f'Saved {key} feature as {npy_filename}')\n",
        "\n",
        "\n",
        "                print(f'Processed {video_file}')\n"
      ]
    },
    {
      "cell_type": "code",
      "execution_count": 13,
      "metadata": {},
      "outputs": [
        {
          "name": "stdout",
          "output_type": "stream",
          "text": [
            "Splits created successfully.\n"
          ]
        }
      ],
      "source": [
        "import os\n",
        "import random\n",
        "\n",
        "\n",
        "output_dir = '../../Output/splits'\n",
        "os.makedirs(output_dir, exist_ok=True)\n",
        "\n",
        "ground_truth_dir = '../../Output/groundTruth'\n",
        "\n",
        "# List all ground truth files\n",
        "ground_truth_files = os.listdir(ground_truth_dir)\n",
        "\n",
        "# Create dictionaries to store file names for each category\n",
        "category_files = {\n",
        "    \"_rgb\": [],\n",
        "    \"_flow\": [],\n",
        "    \"_timestamps_ms\": [],\n",
        "    \"_fps\": []\n",
        "}\n",
        "\n",
        "# Extract the category names and group them by file type (e.g., \"_fps\", \"_flow\", etc.)\n",
        "for filename in ground_truth_files:\n",
        "    parts = filename.split('_')\n",
        "    category = f\"_{parts[-1].split('.')[0]}\"  # Extract the category name from the filename\n",
        "    if category in category_files:\n",
        "        category_files[category].append(filename)\n",
        "\n",
        "# Create split files\n",
        "for split_num in range(1, 5):\n",
        "    split_train_file = os.path.join(splits_dir, f'train.split{split_num}.bundle')\n",
        "    split_test_file = os.path.join(splits_dir, f'test.split{split_num}.bundle')\n",
        "\n",
        "    train_files = []\n",
        "    test_files = []\n",
        "\n",
        "    # Assign specific categories to each split\n",
        "    if split_num == 1:\n",
        "        train_categories = [\"_rgb\"]\n",
        "    elif split_num == 2:\n",
        "        train_categories = [\"_flow\"]\n",
        "    elif split_num == 3:\n",
        "        train_categories = [\"_timestamps_ms\"]\n",
        "    elif split_num == 4:\n",
        "        train_categories = [\"_fps\"]\n",
        "    \n",
        "    for category, files in category_files.items():\n",
        "        # Split each category into 80% train and 20% test based on assigned categories\n",
        "        if category in train_categories:\n",
        "            num_files = len(files)\n",
        "            split_index = int(num_files * 0.8)\n",
        "            train_files.extend(files[:split_index])\n",
        "            test_files.extend(files[split_index:])\n",
        "    \n",
        "    # Randomly shuffle the file names within each split\n",
        "    random.shuffle(train_files)\n",
        "    random.shuffle(test_files)\n",
        "\n",
        "    # Write the shuffled file names to the split files\n",
        "    with open(split_train_file, 'w') as train_split_file, open(split_test_file, 'w') as test_split_file:\n",
        "        train_split_file.write('\\n'.join(train_files)+ '\\n')\n",
        "        test_split_file.write('\\n'.join(test_files)+ '\\n')\n",
        "\n",
        "print(\"Splits created successfully.\")"
      ]
    },
    {
      "cell_type": "code",
      "execution_count": null,
      "metadata": {},
      "outputs": [],
      "source": [
        "# Directory containing ground truth files\n",
        "ground_truth_dir = '../../Output/groundTruth'  # Change this to your ground truth directory\n",
        "\n",
        "# Create a folder for splits if it doesn't exist\n",
        "output_dir = '../../Output'\n",
        "os.makedirs(output_dir, exist_ok=True)\n",
        "\n",
        "# List all ground truth files\n",
        "ground_truth_files = os.listdir(ground_truth_dir)\n",
        "\n",
        "# Create a dictionary to store category indices\n",
        "category_indices = {}\n",
        "\n",
        "# Extract the category names and assign indices\n",
        "category_index = 0\n",
        "for filename in ground_truth_files:\n",
        "    parts = filename.split('_')\n",
        "    category = '_'.join(parts[:-1])  # Extract the category name\n",
        "    if category not in category_indices:\n",
        "        category_indices[category] = category_index\n",
        "        category_index += 1\n",
        "\n",
        "# Create the mapping content\n",
        "mapping_content = '\\n'.join([f'{index} {category}' for category, index in category_indices.items()])\n",
        "\n",
        "# Write the mapping content to the mapping.txt file\n",
        "mapping_filename = os.path.join(output_dir, 'mapping.txt')\n",
        "with open(mapping_filename, 'w') as mapping_file:\n",
        "    mapping_file.write(mapping_content)\n",
        "\n",
        "print(f'Created {mapping_filename} successfully.')\n"
      ]
    },
    {
      "cell_type": "code",
      "execution_count": null,
      "metadata": {
        "colab": {
          "base_uri": "https://localhost:8080/"
        },
        "collapsed": true,
        "id": "ltHMO39gIi0Z",
        "outputId": "156db652-0f58-4f4c-a7f1-10c07b661b7c"
      },
      "outputs": [],
      "source": [
        "!pip freeze"
      ]
    }
  ],
  "metadata": {
    "accelerator": "GPU",
    "colab": {
      "provenance": []
    },
    "kernelspec": {
      "display_name": "Python 3",
      "name": "python3"
    },
    "language_info": {
      "codemirror_mode": {
        "name": "ipython",
        "version": 3
      },
      "file_extension": ".py",
      "mimetype": "text/x-python",
      "name": "python",
      "nbconvert_exporter": "python",
      "pygments_lexer": "ipython3",
      "version": "3.11.5"
    }
  },
  "nbformat": 4,
  "nbformat_minor": 0
}
